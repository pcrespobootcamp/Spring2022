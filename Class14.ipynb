{
 "cells": [
  {
   "cell_type": "markdown",
   "id": "af293a15-47bb-4361-b6f3-a81d2e0d8c38",
   "metadata": {},
   "source": [
    "# Understanding ROC-AUC curves!\n",
    "\n",
    "We know from last time tha evaluating classification models is a bit hard, we might want to start looking back at formalizing some of the things that we did last class. Let's first start by thinking that we only think of classification as trying to classify for one of the possible classes. Then we say that all observations that belong to that class are \"positives\" and that all of those that do not are \"negatives\". Then when we add the idea of prediction and our results we have 4 possible type of results:\n",
    "\n",
    "\n",
    "* True positives (TP): The observations that have been predicted to be positive and are actually positive\n",
    "\n",
    "* True negatives (TN): The observations that have been predicted to be negative and are actually negative\n",
    "\n",
    "* False positives (FP): The observations that have been predicted to be positive, but are actually negative\n",
    "\n",
    "* False negatives (FP): The observations that have been predicted to be negative, but are actually positive\n",
    "\n",
    "\n",
    "These names come from medical analysis. The chart below is how they are usually thought of:\n",
    "\n",
    "\n",
    "![CMat](https://acutecaretesting.org/-/media/acutecaretesting/articles/table-i-comparing-a-method-with-the-clinical-truth.gif?w=300&h=193&as=1)"
   ]
  },
  {
   "cell_type": "markdown",
   "id": "7f94124e-d8fd-4d07-9696-a9a20848e40f",
   "metadata": {},
   "source": [
    "If you recall our last class where we had classes 0 and 1, we had a confusion matrix that looked like:"
   ]
  },
  {
   "cell_type": "code",
   "execution_count": 1,
   "id": "a1fc658e-f0ab-46bd-b6c7-a57ed2e50861",
   "metadata": {},
   "outputs": [
    {
     "data": {
      "text/html": [
       "<div>\n",
       "<style scoped>\n",
       "    .dataframe tbody tr th:only-of-type {\n",
       "        vertical-align: middle;\n",
       "    }\n",
       "\n",
       "    .dataframe tbody tr th {\n",
       "        vertical-align: top;\n",
       "    }\n",
       "\n",
       "    .dataframe thead th {\n",
       "        text-align: right;\n",
       "    }\n",
       "</style>\n",
       "<table border=\"1\" class=\"dataframe\">\n",
       "  <thead>\n",
       "    <tr style=\"text-align: right;\">\n",
       "      <th></th>\n",
       "      <th>pred:0</th>\n",
       "      <th>pred:1</th>\n",
       "    </tr>\n",
       "  </thead>\n",
       "  <tbody>\n",
       "    <tr>\n",
       "      <th>true:0</th>\n",
       "      <td>3757</td>\n",
       "      <td>381</td>\n",
       "    </tr>\n",
       "    <tr>\n",
       "      <th>true:1</th>\n",
       "      <td>529</td>\n",
       "      <td>697</td>\n",
       "    </tr>\n",
       "  </tbody>\n",
       "</table>\n",
       "</div>"
      ],
      "text/plain": [
       "        pred:0  pred:1\n",
       "true:0    3757     381\n",
       "true:1     529     697"
      ]
     },
     "execution_count": 1,
     "metadata": {},
     "output_type": "execute_result"
    }
   ],
   "source": [
    "import pandas as pd\n",
    "\n",
    "confdf=pd.DataFrame({\"pred:0\":[3757, 529], \"pred:1\":[381,697]},\n",
    "                    index=['true:0', 'true:1'] )\n",
    "\n",
    "confdf"
   ]
  },
  {
   "cell_type": "markdown",
   "id": "30a264f7-7aeb-428b-910e-2bc5347d7d15",
   "metadata": {},
   "source": [
    "If 0  were to be our reference label, our confusion matrix sections would be:\n",
    "\n"
   ]
  },
  {
   "cell_type": "code",
   "execution_count": 2,
   "id": "345a9dd9-cae8-4c62-896b-373523781405",
   "metadata": {},
   "outputs": [
    {
     "data": {
      "text/html": [
       "<div>\n",
       "<style scoped>\n",
       "    .dataframe tbody tr th:only-of-type {\n",
       "        vertical-align: middle;\n",
       "    }\n",
       "\n",
       "    .dataframe tbody tr th {\n",
       "        vertical-align: top;\n",
       "    }\n",
       "\n",
       "    .dataframe thead th {\n",
       "        text-align: right;\n",
       "    }\n",
       "</style>\n",
       "<table border=\"1\" class=\"dataframe\">\n",
       "  <thead>\n",
       "    <tr style=\"text-align: right;\">\n",
       "      <th></th>\n",
       "      <th>pred:0</th>\n",
       "      <th>pred:1</th>\n",
       "    </tr>\n",
       "  </thead>\n",
       "  <tbody>\n",
       "    <tr>\n",
       "      <th>true:0</th>\n",
       "      <td>TP</td>\n",
       "      <td>FN</td>\n",
       "    </tr>\n",
       "    <tr>\n",
       "      <th>true:1</th>\n",
       "      <td>FP</td>\n",
       "      <td>TN</td>\n",
       "    </tr>\n",
       "  </tbody>\n",
       "</table>\n",
       "</div>"
      ],
      "text/plain": [
       "       pred:0 pred:1\n",
       "true:0     TP     FN\n",
       "true:1     FP     TN"
      ]
     },
     "execution_count": 2,
     "metadata": {},
     "output_type": "execute_result"
    }
   ],
   "source": [
    "confdf2=pd.DataFrame({\"pred:0\":[\"TP\", \"FP\"], \"pred:1\":[\"FN\",\"TN\"]},\n",
    "                    index=['true:0', 'true:1'] )\n",
    "\n",
    "confdf2"
   ]
  },
  {
   "cell_type": "markdown",
   "id": "108aa0bd-5b3e-4d80-9a28-908af230dae3",
   "metadata": {},
   "source": [
    "We can define a few interesting rates from these numbers:\n",
    "\n",
    "\n",
    "* True Positive Rate (TPR) or sensitivity\n",
    "\n",
    "$$TPR=\\frac{TP}{TP+FN}$$\n",
    "\n",
    "(This was our definition of recall!)\n",
    "\n",
    "\n",
    "* False Positive Rate (FPR)\n",
    "\n",
    "$$FPR=\\frac{FP}{FP+TN}$$\n",
    "\n",
    "* Specificity\n",
    "\n",
    "$$Specificity=\\frac{TN}{TN+FP}$$\n",
    "\n",
    "\n",
    "Note that:\n",
    "\n",
    "$$ FPR= 1 - Specificity$$\n",
    "\n"
   ]
  },
  {
   "cell_type": "markdown",
   "id": "f049bba7-3e97-4bff-ac90-f781b09c127c",
   "metadata": {},
   "source": [
    "## ROC Curve\n",
    "\n",
    "A ROC curve is a curve that has the True Positive rate in the y axis, and the false positive rate in the x axis. The points plotted are the coordinates of true positve rate and false positive rate that occur as the threshold of probability for assigning a label change, from needing 1 to assign the label to zero.\n",
    "\n",
    "\n",
    "We will use the iris dataset to do our analysis. The iris dataset is included within sklearn"
   ]
  },
  {
   "cell_type": "code",
   "execution_count": 3,
   "id": "3257c16c-0edd-4e1b-860d-fd724c4f1a2a",
   "metadata": {},
   "outputs": [],
   "source": [
    "import matplotlib.pyplot as plt\n",
    "\n",
    "import numpy as np\n",
    "from sklearn.model_selection import train_test_split\n",
    "from sklearn.metrics import RocCurveDisplay\n",
    "from plotnine import *\n",
    "from sklearn.ensemble import RandomForestClassifier \n",
    "from sklearn.preprocessing import label_binarize\n",
    "from sklearn.multiclass import OneVsRestClassifier\n",
    "from sklearn.metrics import roc_curve, auc\n",
    "from sklearn import datasets\n",
    "from sklearn.metrics import roc_auc_score\n",
    "%matplotlib inline"
   ]
  },
  {
   "cell_type": "code",
   "execution_count": 4,
   "id": "915f9544-359c-46df-b0ab-9966d4e93c51",
   "metadata": {},
   "outputs": [],
   "source": [
    "iris = datasets.load_iris()\n",
    "X = iris.data\n",
    "y = iris.target"
   ]
  },
  {
   "cell_type": "code",
   "execution_count": 5,
   "id": "5407bb79-f61e-4666-a466-239744fb9605",
   "metadata": {},
   "outputs": [
    {
     "data": {
      "text/plain": [
       "array([[5.1, 3.5, 1.4, 0.2],\n",
       "       [4.9, 3. , 1.4, 0.2],\n",
       "       [4.7, 3.2, 1.3, 0.2],\n",
       "       [4.6, 3.1, 1.5, 0.2],\n",
       "       [5. , 3.6, 1.4, 0.2],\n",
       "       [5.4, 3.9, 1.7, 0.4],\n",
       "       [4.6, 3.4, 1.4, 0.3],\n",
       "       [5. , 3.4, 1.5, 0.2],\n",
       "       [4.4, 2.9, 1.4, 0.2],\n",
       "       [4.9, 3.1, 1.5, 0.1],\n",
       "       [5.4, 3.7, 1.5, 0.2],\n",
       "       [4.8, 3.4, 1.6, 0.2],\n",
       "       [4.8, 3. , 1.4, 0.1],\n",
       "       [4.3, 3. , 1.1, 0.1],\n",
       "       [5.8, 4. , 1.2, 0.2],\n",
       "       [5.7, 4.4, 1.5, 0.4],\n",
       "       [5.4, 3.9, 1.3, 0.4],\n",
       "       [5.1, 3.5, 1.4, 0.3],\n",
       "       [5.7, 3.8, 1.7, 0.3],\n",
       "       [5.1, 3.8, 1.5, 0.3],\n",
       "       [5.4, 3.4, 1.7, 0.2],\n",
       "       [5.1, 3.7, 1.5, 0.4],\n",
       "       [4.6, 3.6, 1. , 0.2],\n",
       "       [5.1, 3.3, 1.7, 0.5],\n",
       "       [4.8, 3.4, 1.9, 0.2],\n",
       "       [5. , 3. , 1.6, 0.2],\n",
       "       [5. , 3.4, 1.6, 0.4],\n",
       "       [5.2, 3.5, 1.5, 0.2],\n",
       "       [5.2, 3.4, 1.4, 0.2],\n",
       "       [4.7, 3.2, 1.6, 0.2],\n",
       "       [4.8, 3.1, 1.6, 0.2],\n",
       "       [5.4, 3.4, 1.5, 0.4],\n",
       "       [5.2, 4.1, 1.5, 0.1],\n",
       "       [5.5, 4.2, 1.4, 0.2],\n",
       "       [4.9, 3.1, 1.5, 0.2],\n",
       "       [5. , 3.2, 1.2, 0.2],\n",
       "       [5.5, 3.5, 1.3, 0.2],\n",
       "       [4.9, 3.6, 1.4, 0.1],\n",
       "       [4.4, 3. , 1.3, 0.2],\n",
       "       [5.1, 3.4, 1.5, 0.2],\n",
       "       [5. , 3.5, 1.3, 0.3],\n",
       "       [4.5, 2.3, 1.3, 0.3],\n",
       "       [4.4, 3.2, 1.3, 0.2],\n",
       "       [5. , 3.5, 1.6, 0.6],\n",
       "       [5.1, 3.8, 1.9, 0.4],\n",
       "       [4.8, 3. , 1.4, 0.3],\n",
       "       [5.1, 3.8, 1.6, 0.2],\n",
       "       [4.6, 3.2, 1.4, 0.2],\n",
       "       [5.3, 3.7, 1.5, 0.2],\n",
       "       [5. , 3.3, 1.4, 0.2],\n",
       "       [7. , 3.2, 4.7, 1.4],\n",
       "       [6.4, 3.2, 4.5, 1.5],\n",
       "       [6.9, 3.1, 4.9, 1.5],\n",
       "       [5.5, 2.3, 4. , 1.3],\n",
       "       [6.5, 2.8, 4.6, 1.5],\n",
       "       [5.7, 2.8, 4.5, 1.3],\n",
       "       [6.3, 3.3, 4.7, 1.6],\n",
       "       [4.9, 2.4, 3.3, 1. ],\n",
       "       [6.6, 2.9, 4.6, 1.3],\n",
       "       [5.2, 2.7, 3.9, 1.4],\n",
       "       [5. , 2. , 3.5, 1. ],\n",
       "       [5.9, 3. , 4.2, 1.5],\n",
       "       [6. , 2.2, 4. , 1. ],\n",
       "       [6.1, 2.9, 4.7, 1.4],\n",
       "       [5.6, 2.9, 3.6, 1.3],\n",
       "       [6.7, 3.1, 4.4, 1.4],\n",
       "       [5.6, 3. , 4.5, 1.5],\n",
       "       [5.8, 2.7, 4.1, 1. ],\n",
       "       [6.2, 2.2, 4.5, 1.5],\n",
       "       [5.6, 2.5, 3.9, 1.1],\n",
       "       [5.9, 3.2, 4.8, 1.8],\n",
       "       [6.1, 2.8, 4. , 1.3],\n",
       "       [6.3, 2.5, 4.9, 1.5],\n",
       "       [6.1, 2.8, 4.7, 1.2],\n",
       "       [6.4, 2.9, 4.3, 1.3],\n",
       "       [6.6, 3. , 4.4, 1.4],\n",
       "       [6.8, 2.8, 4.8, 1.4],\n",
       "       [6.7, 3. , 5. , 1.7],\n",
       "       [6. , 2.9, 4.5, 1.5],\n",
       "       [5.7, 2.6, 3.5, 1. ],\n",
       "       [5.5, 2.4, 3.8, 1.1],\n",
       "       [5.5, 2.4, 3.7, 1. ],\n",
       "       [5.8, 2.7, 3.9, 1.2],\n",
       "       [6. , 2.7, 5.1, 1.6],\n",
       "       [5.4, 3. , 4.5, 1.5],\n",
       "       [6. , 3.4, 4.5, 1.6],\n",
       "       [6.7, 3.1, 4.7, 1.5],\n",
       "       [6.3, 2.3, 4.4, 1.3],\n",
       "       [5.6, 3. , 4.1, 1.3],\n",
       "       [5.5, 2.5, 4. , 1.3],\n",
       "       [5.5, 2.6, 4.4, 1.2],\n",
       "       [6.1, 3. , 4.6, 1.4],\n",
       "       [5.8, 2.6, 4. , 1.2],\n",
       "       [5. , 2.3, 3.3, 1. ],\n",
       "       [5.6, 2.7, 4.2, 1.3],\n",
       "       [5.7, 3. , 4.2, 1.2],\n",
       "       [5.7, 2.9, 4.2, 1.3],\n",
       "       [6.2, 2.9, 4.3, 1.3],\n",
       "       [5.1, 2.5, 3. , 1.1],\n",
       "       [5.7, 2.8, 4.1, 1.3],\n",
       "       [6.3, 3.3, 6. , 2.5],\n",
       "       [5.8, 2.7, 5.1, 1.9],\n",
       "       [7.1, 3. , 5.9, 2.1],\n",
       "       [6.3, 2.9, 5.6, 1.8],\n",
       "       [6.5, 3. , 5.8, 2.2],\n",
       "       [7.6, 3. , 6.6, 2.1],\n",
       "       [4.9, 2.5, 4.5, 1.7],\n",
       "       [7.3, 2.9, 6.3, 1.8],\n",
       "       [6.7, 2.5, 5.8, 1.8],\n",
       "       [7.2, 3.6, 6.1, 2.5],\n",
       "       [6.5, 3.2, 5.1, 2. ],\n",
       "       [6.4, 2.7, 5.3, 1.9],\n",
       "       [6.8, 3. , 5.5, 2.1],\n",
       "       [5.7, 2.5, 5. , 2. ],\n",
       "       [5.8, 2.8, 5.1, 2.4],\n",
       "       [6.4, 3.2, 5.3, 2.3],\n",
       "       [6.5, 3. , 5.5, 1.8],\n",
       "       [7.7, 3.8, 6.7, 2.2],\n",
       "       [7.7, 2.6, 6.9, 2.3],\n",
       "       [6. , 2.2, 5. , 1.5],\n",
       "       [6.9, 3.2, 5.7, 2.3],\n",
       "       [5.6, 2.8, 4.9, 2. ],\n",
       "       [7.7, 2.8, 6.7, 2. ],\n",
       "       [6.3, 2.7, 4.9, 1.8],\n",
       "       [6.7, 3.3, 5.7, 2.1],\n",
       "       [7.2, 3.2, 6. , 1.8],\n",
       "       [6.2, 2.8, 4.8, 1.8],\n",
       "       [6.1, 3. , 4.9, 1.8],\n",
       "       [6.4, 2.8, 5.6, 2.1],\n",
       "       [7.2, 3. , 5.8, 1.6],\n",
       "       [7.4, 2.8, 6.1, 1.9],\n",
       "       [7.9, 3.8, 6.4, 2. ],\n",
       "       [6.4, 2.8, 5.6, 2.2],\n",
       "       [6.3, 2.8, 5.1, 1.5],\n",
       "       [6.1, 2.6, 5.6, 1.4],\n",
       "       [7.7, 3. , 6.1, 2.3],\n",
       "       [6.3, 3.4, 5.6, 2.4],\n",
       "       [6.4, 3.1, 5.5, 1.8],\n",
       "       [6. , 3. , 4.8, 1.8],\n",
       "       [6.9, 3.1, 5.4, 2.1],\n",
       "       [6.7, 3.1, 5.6, 2.4],\n",
       "       [6.9, 3.1, 5.1, 2.3],\n",
       "       [5.8, 2.7, 5.1, 1.9],\n",
       "       [6.8, 3.2, 5.9, 2.3],\n",
       "       [6.7, 3.3, 5.7, 2.5],\n",
       "       [6.7, 3. , 5.2, 2.3],\n",
       "       [6.3, 2.5, 5. , 1.9],\n",
       "       [6.5, 3. , 5.2, 2. ],\n",
       "       [6.2, 3.4, 5.4, 2.3],\n",
       "       [5.9, 3. , 5.1, 1.8]])"
      ]
     },
     "execution_count": 5,
     "metadata": {},
     "output_type": "execute_result"
    }
   ],
   "source": [
    "X"
   ]
  },
  {
   "cell_type": "code",
   "execution_count": 6,
   "id": "a3b2496a-8d71-4639-9e3a-dd4a8e9865e5",
   "metadata": {},
   "outputs": [
    {
     "data": {
      "text/plain": [
       "['setosa', 'versicolor', 'virginica']"
      ]
     },
     "execution_count": 6,
     "metadata": {},
     "output_type": "execute_result"
    }
   ],
   "source": [
    "#These are types of flowers\n",
    "\n",
    "list(iris.target_names)"
   ]
  },
  {
   "cell_type": "code",
   "execution_count": 6,
   "id": "57bb979e-f130-4f34-9cba-06a1d44f0b51",
   "metadata": {},
   "outputs": [
    {
     "data": {
      "text/plain": [
       "['sepal length (cm)',\n",
       " 'sepal width (cm)',\n",
       " 'petal length (cm)',\n",
       " 'petal width (cm)']"
      ]
     },
     "execution_count": 6,
     "metadata": {},
     "output_type": "execute_result"
    }
   ],
   "source": [
    "#What are our features\n",
    "\n",
    "list(iris.feature_names)"
   ]
  },
  {
   "cell_type": "code",
   "execution_count": 7,
   "id": "d72164b8-f1fe-4381-9f80-62873bdcc7dc",
   "metadata": {},
   "outputs": [],
   "source": [
    "# Add noisy features to make the problem harder\n",
    "random_state = np.random.RandomState(0)\n",
    "n_samples, n_features = X.shape\n",
    "X = np.c_[X, random_state.randn(n_samples, 200 * n_features)]"
   ]
  },
  {
   "cell_type": "code",
   "execution_count": 8,
   "id": "27ffbdb8-b507-49bd-9fa5-c97ebc16ab8e",
   "metadata": {},
   "outputs": [],
   "source": [
    "#Let's binarize\n",
    "\n",
    "# Binarize the output\n",
    "y = label_binarize(y, classes=[0, 1, 2])"
   ]
  },
  {
   "cell_type": "code",
   "execution_count": 9,
   "id": "41fffbfd-aeab-4946-a422-9539ca1de697",
   "metadata": {},
   "outputs": [
    {
     "data": {
      "text/plain": [
       "array([[1, 0, 0],\n",
       "       [1, 0, 0],\n",
       "       [1, 0, 0],\n",
       "       [1, 0, 0],\n",
       "       [1, 0, 0],\n",
       "       [1, 0, 0],\n",
       "       [1, 0, 0],\n",
       "       [1, 0, 0],\n",
       "       [1, 0, 0],\n",
       "       [1, 0, 0],\n",
       "       [1, 0, 0],\n",
       "       [1, 0, 0],\n",
       "       [1, 0, 0],\n",
       "       [1, 0, 0],\n",
       "       [1, 0, 0],\n",
       "       [1, 0, 0],\n",
       "       [1, 0, 0],\n",
       "       [1, 0, 0],\n",
       "       [1, 0, 0],\n",
       "       [1, 0, 0],\n",
       "       [1, 0, 0],\n",
       "       [1, 0, 0],\n",
       "       [1, 0, 0],\n",
       "       [1, 0, 0],\n",
       "       [1, 0, 0],\n",
       "       [1, 0, 0],\n",
       "       [1, 0, 0],\n",
       "       [1, 0, 0],\n",
       "       [1, 0, 0],\n",
       "       [1, 0, 0],\n",
       "       [1, 0, 0],\n",
       "       [1, 0, 0],\n",
       "       [1, 0, 0],\n",
       "       [1, 0, 0],\n",
       "       [1, 0, 0],\n",
       "       [1, 0, 0],\n",
       "       [1, 0, 0],\n",
       "       [1, 0, 0],\n",
       "       [1, 0, 0],\n",
       "       [1, 0, 0],\n",
       "       [1, 0, 0],\n",
       "       [1, 0, 0],\n",
       "       [1, 0, 0],\n",
       "       [1, 0, 0],\n",
       "       [1, 0, 0],\n",
       "       [1, 0, 0],\n",
       "       [1, 0, 0],\n",
       "       [1, 0, 0],\n",
       "       [1, 0, 0],\n",
       "       [1, 0, 0],\n",
       "       [0, 1, 0],\n",
       "       [0, 1, 0],\n",
       "       [0, 1, 0],\n",
       "       [0, 1, 0],\n",
       "       [0, 1, 0],\n",
       "       [0, 1, 0],\n",
       "       [0, 1, 0],\n",
       "       [0, 1, 0],\n",
       "       [0, 1, 0],\n",
       "       [0, 1, 0],\n",
       "       [0, 1, 0],\n",
       "       [0, 1, 0],\n",
       "       [0, 1, 0],\n",
       "       [0, 1, 0],\n",
       "       [0, 1, 0],\n",
       "       [0, 1, 0],\n",
       "       [0, 1, 0],\n",
       "       [0, 1, 0],\n",
       "       [0, 1, 0],\n",
       "       [0, 1, 0],\n",
       "       [0, 1, 0],\n",
       "       [0, 1, 0],\n",
       "       [0, 1, 0],\n",
       "       [0, 1, 0],\n",
       "       [0, 1, 0],\n",
       "       [0, 1, 0],\n",
       "       [0, 1, 0],\n",
       "       [0, 1, 0],\n",
       "       [0, 1, 0],\n",
       "       [0, 1, 0],\n",
       "       [0, 1, 0],\n",
       "       [0, 1, 0],\n",
       "       [0, 1, 0],\n",
       "       [0, 1, 0],\n",
       "       [0, 1, 0],\n",
       "       [0, 1, 0],\n",
       "       [0, 1, 0],\n",
       "       [0, 1, 0],\n",
       "       [0, 1, 0],\n",
       "       [0, 1, 0],\n",
       "       [0, 1, 0],\n",
       "       [0, 1, 0],\n",
       "       [0, 1, 0],\n",
       "       [0, 1, 0],\n",
       "       [0, 1, 0],\n",
       "       [0, 1, 0],\n",
       "       [0, 1, 0],\n",
       "       [0, 1, 0],\n",
       "       [0, 1, 0],\n",
       "       [0, 1, 0],\n",
       "       [0, 0, 1],\n",
       "       [0, 0, 1],\n",
       "       [0, 0, 1],\n",
       "       [0, 0, 1],\n",
       "       [0, 0, 1],\n",
       "       [0, 0, 1],\n",
       "       [0, 0, 1],\n",
       "       [0, 0, 1],\n",
       "       [0, 0, 1],\n",
       "       [0, 0, 1],\n",
       "       [0, 0, 1],\n",
       "       [0, 0, 1],\n",
       "       [0, 0, 1],\n",
       "       [0, 0, 1],\n",
       "       [0, 0, 1],\n",
       "       [0, 0, 1],\n",
       "       [0, 0, 1],\n",
       "       [0, 0, 1],\n",
       "       [0, 0, 1],\n",
       "       [0, 0, 1],\n",
       "       [0, 0, 1],\n",
       "       [0, 0, 1],\n",
       "       [0, 0, 1],\n",
       "       [0, 0, 1],\n",
       "       [0, 0, 1],\n",
       "       [0, 0, 1],\n",
       "       [0, 0, 1],\n",
       "       [0, 0, 1],\n",
       "       [0, 0, 1],\n",
       "       [0, 0, 1],\n",
       "       [0, 0, 1],\n",
       "       [0, 0, 1],\n",
       "       [0, 0, 1],\n",
       "       [0, 0, 1],\n",
       "       [0, 0, 1],\n",
       "       [0, 0, 1],\n",
       "       [0, 0, 1],\n",
       "       [0, 0, 1],\n",
       "       [0, 0, 1],\n",
       "       [0, 0, 1],\n",
       "       [0, 0, 1],\n",
       "       [0, 0, 1],\n",
       "       [0, 0, 1],\n",
       "       [0, 0, 1],\n",
       "       [0, 0, 1],\n",
       "       [0, 0, 1],\n",
       "       [0, 0, 1],\n",
       "       [0, 0, 1],\n",
       "       [0, 0, 1],\n",
       "       [0, 0, 1]])"
      ]
     },
     "execution_count": 9,
     "metadata": {},
     "output_type": "execute_result"
    }
   ],
   "source": [
    "y"
   ]
  },
  {
   "cell_type": "code",
   "execution_count": 10,
   "id": "69c13009-180a-4e80-b9d9-7f20ffef1f4b",
   "metadata": {},
   "outputs": [],
   "source": [
    "# shuffle and split training and test sets\n",
    "X_train, X_test, y_train, y_test = train_test_split(X, y, test_size=.2,\n",
    "                                                    random_state=0)"
   ]
  },
  {
   "cell_type": "code",
   "execution_count": 11,
   "id": "5ad278f8-074d-4d93-ac63-acfe1ccac9b4",
   "metadata": {},
   "outputs": [],
   "source": [
    "# Let's build a 1 vs all classifier:\n",
    "\n",
    "\n",
    "#clf=rf_clf()\n",
    "\n",
    "classifier = OneVsRestClassifier(RandomForestClassifier(n_estimators=25))\n",
    "\n",
    "\n",
    "y_score = classifier.fit(X_train, y_train).predict_proba(X_test)\n"
   ]
  },
  {
   "cell_type": "code",
   "execution_count": 12,
   "id": "b7da3fe7-ef68-456d-977b-a1b2356f4698",
   "metadata": {},
   "outputs": [
    {
     "data": {
      "text/plain": [
       "array([[0.04, 0.28, 0.48],\n",
       "       [0.36, 0.36, 0.32],\n",
       "       [0.6 , 0.28, 0.16],\n",
       "       [0.12, 0.4 , 0.52],\n",
       "       [0.52, 0.28, 0.12],\n",
       "       [0.32, 0.28, 0.6 ],\n",
       "       [0.52, 0.24, 0.12],\n",
       "       [0.28, 0.44, 0.24],\n",
       "       [0.28, 0.28, 0.24],\n",
       "       [0.04, 0.36, 0.28],\n",
       "       [0.28, 0.52, 0.4 ],\n",
       "       [0.16, 0.44, 0.36],\n",
       "       [0.2 , 0.48, 0.28],\n",
       "       [0.24, 0.36, 0.4 ],\n",
       "       [0.28, 0.4 , 0.2 ],\n",
       "       [0.64, 0.28, 0.28],\n",
       "       [0.32, 0.32, 0.32],\n",
       "       [0.4 , 0.16, 0.16],\n",
       "       [0.64, 0.2 , 0.4 ],\n",
       "       [0.48, 0.32, 0.36],\n",
       "       [0.24, 0.52, 0.44],\n",
       "       [0.28, 0.36, 0.2 ],\n",
       "       [0.6 , 0.24, 0.36],\n",
       "       [0.48, 0.28, 0.4 ],\n",
       "       [0.16, 0.32, 0.64],\n",
       "       [0.56, 0.44, 0.36],\n",
       "       [0.52, 0.36, 0.24],\n",
       "       [0.28, 0.36, 0.36],\n",
       "       [0.24, 0.32, 0.4 ],\n",
       "       [0.64, 0.28, 0.2 ]])"
      ]
     },
     "execution_count": 12,
     "metadata": {},
     "output_type": "execute_result"
    }
   ],
   "source": [
    "y_score"
   ]
  },
  {
   "cell_type": "code",
   "execution_count": 13,
   "id": "66ac8103-1662-432c-ba7b-e3d027c95c35",
   "metadata": {},
   "outputs": [],
   "source": [
    "#number of classes\n",
    "\n",
    "nclass=y.shape[1]"
   ]
  },
  {
   "cell_type": "code",
   "execution_count": 14,
   "id": "509b98cd-da07-456c-96d2-8417eb817efd",
   "metadata": {},
   "outputs": [],
   "source": [
    "# Compute ROC curve and ROC area for each class\n",
    "fpr = dict()\n",
    "tpr = dict()\n",
    "roc_auc = dict()\n",
    "for i in range(nclass):\n",
    "    fpr[i], tpr[i], _ = roc_curve(y_test[:, i], y_score[:, i])\n",
    "    roc_auc[i] = auc(fpr[i], tpr[i])"
   ]
  },
  {
   "cell_type": "code",
   "execution_count": 17,
   "id": "7373baca-a9d9-4bfd-928f-ca845fc66d2b",
   "metadata": {},
   "outputs": [
    {
     "data": {
      "text/plain": [
       "{0: array([0.        , 0.        , 0.        , 0.        , 0.        ,\n",
       "        0.10526316, 0.21052632, 0.36842105, 0.47368421, 0.63157895,\n",
       "        0.73684211, 1.        ]),\n",
       " 1: array([0.        , 0.        , 0.05882353, 0.11764706, 0.17647059,\n",
       "        0.29411765, 0.41176471, 0.64705882, 0.76470588, 1.        ]),\n",
       " 2: array([0.        , 0.        , 0.125     , 0.29166667, 0.33333333,\n",
       "        0.5       , 0.66666667, 0.79166667, 0.95833333, 1.        ])}"
      ]
     },
     "execution_count": 17,
     "metadata": {},
     "output_type": "execute_result"
    }
   ],
   "source": [
    "#Let's look at the dictionaries!\n",
    "\n",
    "\n",
    "fpr"
   ]
  },
  {
   "cell_type": "code",
   "execution_count": 18,
   "id": "f05c9d23-d165-4f9b-b38b-a134d6fd4c37",
   "metadata": {},
   "outputs": [
    {
     "data": {
      "text/plain": [
       "{0: array([0.        , 0.09090909, 0.36363636, 0.72727273, 0.90909091,\n",
       "        1.        , 1.        , 1.        , 1.        , 1.        ,\n",
       "        1.        , 1.        ]),\n",
       " 1: array([0.        , 0.07692308, 0.07692308, 0.15384615, 0.46153846,\n",
       "        0.69230769, 0.76923077, 0.92307692, 1.        , 1.        ]),\n",
       " 2: array([0.        , 0.16666667, 0.33333333, 0.33333333, 0.83333333,\n",
       "        1.        , 1.        , 1.        , 1.        , 1.        ])}"
      ]
     },
     "execution_count": 18,
     "metadata": {},
     "output_type": "execute_result"
    }
   ],
   "source": [
    "tpr"
   ]
  },
  {
   "cell_type": "code",
   "execution_count": 19,
   "id": "d49b76a9-9f96-437e-b600-4c7c0a336a61",
   "metadata": {},
   "outputs": [
    {
     "data": {
      "text/plain": [
       "{0: 0.9952153110047848, 1: 0.7307692307692308, 2: 0.7638888888888888}"
      ]
     },
     "execution_count": 19,
     "metadata": {},
     "output_type": "execute_result"
    }
   ],
   "source": [
    "roc_auc"
   ]
  },
  {
   "cell_type": "code",
   "execution_count": 21,
   "id": "8b7143d8-ece9-49a3-a7f8-38cab5dfb2e3",
   "metadata": {},
   "outputs": [],
   "source": [
    "#Let's make a dataframe containing all of these!\n",
    "\n",
    "rocplotdf0=pd.DataFrame()\n",
    "\n",
    "rocplotdf0['fpr_0'], rocplotdf0['tpr_0']=fpr[0], tpr[0]\n",
    "\n",
    "rocplotdf1=pd.DataFrame()\n",
    "\n",
    "rocplotdf1['fpr_1'], rocplotdf1['tpr_1']=fpr[1], tpr[1]\n",
    "\n",
    "rocplotdf2=pd.DataFrame()\n",
    "\n",
    "rocplotdf2['fpr_2'], rocplotdf2['tpr_2']=fpr[2], tpr[2]\n"
   ]
  },
  {
   "cell_type": "code",
   "execution_count": 22,
   "id": "9edaa10f-68e5-46ea-8c90-eaeb000671d7",
   "metadata": {},
   "outputs": [
    {
     "data": {
      "image/png": "[encoded data removed]",
      "text/plain": [
       "<Figure size 640x480 with 1 Axes>"
      ]
     },
     "metadata": {},
     "output_type": "display_data"
    },
    {
     "data": {
      "text/plain": [
       "<ggplot: (8781936341495)>"
      ]
     },
     "execution_count": 22,
     "metadata": {},
     "output_type": "execute_result"
    }
   ],
   "source": [
    "#Plotting!\n",
    "\n",
    "(ggplot(data=rocplotdf0, mapping=aes(x='fpr_0', y='tpr_0'))+\n",
    "geom_line(color='steelblue')+\n",
    "ggtitle(f'AUC={roc_auc[0]}')+\n",
    "geom_abline(linetype='dashed', color='darkorange')+\n",
    " ylab(\"TPR\")+\n",
    " xlab(\"FPR\")+\n",
    " theme_bw()\n",
    ")"
   ]
  },
  {
   "cell_type": "code",
   "execution_count": 23,
   "id": "cf5f5e8b-b2e4-4deb-8b8e-debe32f2a93e",
   "metadata": {},
   "outputs": [
    {
     "data": {
      "image/png": "[encoded data removed]",
      "text/plain": [
       "<Figure size 640x480 with 1 Axes>"
      ]
     },
     "metadata": {},
     "output_type": "display_data"
    },
    {
     "data": {
      "text/plain": [
       "<ggplot: (8781936706283)>"
      ]
     },
     "execution_count": 23,
     "metadata": {},
     "output_type": "execute_result"
    }
   ],
   "source": [
    "#For the second label\n",
    "\n",
    "(ggplot(data=rocplotdf1, mapping=aes(x='fpr_1', y='tpr_1'))+\n",
    "geom_line(color='steelblue')+\n",
    "ggtitle(f'AUC={roc_auc[1]}')+\n",
    "geom_abline(linetype='dashed', color='darkorange')+\n",
    " ylab(\"TPR\")+\n",
    " xlab(\"FPR\")+\n",
    " theme_bw()\n",
    ")"
   ]
  },
  {
   "cell_type": "code",
   "execution_count": 24,
   "id": "845cb7f2-3959-4686-a1d2-114aa51e2ab0",
   "metadata": {},
   "outputs": [
    {
     "data": {
      "image/png": "[encoded data removed]",
      "text/plain": [
       "<Figure size 640x480 with 1 Axes>"
      ]
     },
     "metadata": {},
     "output_type": "display_data"
    },
    {
     "data": {
      "text/plain": [
       "<ggplot: (8781936634832)>"
      ]
     },
     "execution_count": 24,
     "metadata": {},
     "output_type": "execute_result"
    }
   ],
   "source": [
    "#For the third label\n",
    "\n",
    "\n",
    "(ggplot(data=rocplotdf2, mapping=aes(x='fpr_2', y='tpr_2'))+\n",
    "geom_line(color='steelblue')+\n",
    "ggtitle(f'AUC={roc_auc[2]}')+\n",
    "geom_abline(linetype='dashed', color='darkorange')+\n",
    " ylab(\"TPR\")+\n",
    " xlab(\"FPR\")+\n",
    " theme_bw()\n",
    ")"
   ]
  },
  {
   "cell_type": "markdown",
   "id": "c4e6d0d3-2b3e-496c-ab98-d51579ac9ebd",
   "metadata": {},
   "source": [
    "Let's think for a second. If the threshold for being classified as our reference class is probability equal to 1, it's very difficult we would ever classify anything as that reference class, hence the fact that we start at (0,0), if our threshold was zero... well we would classify EVERYTHING as that class, hence we have the curve ends at (1,1). \n",
    "\n",
    "The 45 degree line is a hypothetical model where it's just random chance. \n",
    "\n",
    "Furthermore, the lower our threshold the higher our recall, but also the higher the number of false positives among all labels that are truly negative.  The curve shows the balance, the closer it gets to a rectangle, the closer we know we have gotten to obtain recall without really increasing much on the false positive rate. Thus we take the area under the curve as one of the best measures we can use. It goes from zero to 1. \n",
    "\n",
    "\n",
    "\n",
    "\n"
   ]
  },
  {
   "cell_type": "markdown",
   "id": "dd365383-9249-4056-a288-e4d03920ce59",
   "metadata": {},
   "source": [
    "# Precision recall curves\n",
    "\n",
    "We can also do an evaluation of the model using a precision recall curve."
   ]
  },
  {
   "cell_type": "code",
   "execution_count": 25,
   "id": "2660361e-558f-4e48-b2fb-2676dcf80fcb",
   "metadata": {},
   "outputs": [],
   "source": [
    "from sklearn.metrics import precision_recall_curve\n",
    "#Does not support multilabel"
   ]
  },
  {
   "cell_type": "code",
   "execution_count": 26,
   "id": "f22c3ded-9135-44cf-9a50-a7a6d6a83898",
   "metadata": {},
   "outputs": [],
   "source": [
    "precision0, recall0, _ = precision_recall_curve(y_test[:,0],y_score[:,0])"
   ]
  },
  {
   "cell_type": "code",
   "execution_count": 27,
   "id": "eead7489-2770-4be8-b248-a411b48bbda4",
   "metadata": {},
   "outputs": [],
   "source": [
    "precision1, recall1, _ = precision_recall_curve(y_test[:,1],y_score[:,1])"
   ]
  },
  {
   "cell_type": "code",
   "execution_count": 28,
   "id": "81753810-649b-469e-8667-79935372e535",
   "metadata": {},
   "outputs": [],
   "source": [
    "precision2, recall2, _ = precision_recall_curve(y_test[:,2],y_score[:,2])"
   ]
  },
  {
   "cell_type": "code",
   "execution_count": 29,
   "id": "89c30f6e-8076-43d5-ab01-b7462bc6f66c",
   "metadata": {},
   "outputs": [],
   "source": [
    "#Let's make a dataframe containing all of these!\n",
    "\n",
    "prplotdf0=pd.DataFrame()\n",
    "\n",
    "prplotdf0['pr_0'], prplotdf0['r_0']=precision0, recall0\n",
    "\n",
    "prplotdf1=pd.DataFrame()\n",
    "\n",
    "prplotdf1['pr_1'], prplotdf1['r_1']=precision1, recall1\n",
    "\n",
    "prplotdf2=pd.DataFrame()\n",
    "\n",
    "prplotdf2['pr_2'], prplotdf2['r_2']=precision2, recall2\n"
   ]
  },
  {
   "cell_type": "code",
   "execution_count": 30,
   "id": "27af54ff-5e72-4b9b-b312-2faae30887fd",
   "metadata": {},
   "outputs": [
    {
     "data": {
      "image/png": "[encoded data removed]",
      "text/plain": [
       "<Figure size 640x480 with 1 Axes>"
      ]
     },
     "metadata": {},
     "output_type": "display_data"
    },
    {
     "data": {
      "text/plain": [
       "<ggplot: (8781934514800)>"
      ]
     },
     "execution_count": 30,
     "metadata": {},
     "output_type": "execute_result"
    }
   ],
   "source": [
    "(ggplot(data=prplotdf0, mapping=aes(x='r_0', y='pr_0'))+\n",
    "geom_line(color='darkorange')+\n",
    " geom_hline(yintercept=0.5, linetype='dashed', color='steelblue')+\n",
    " xlab('Recall')+\n",
    " ylab(\"Precision\")+\n",
    " ggtitle(\"Label=0\")+\n",
    " theme_bw()\n",
    ")"
   ]
  },
  {
   "cell_type": "code",
   "execution_count": 31,
   "id": "fb755231-599d-473b-8d4f-095ff20ba8b5",
   "metadata": {},
   "outputs": [
    {
     "data": {
      "image/png": "[encoded data removed]",
      "text/plain": [
       "<Figure size 640x480 with 1 Axes>"
      ]
     },
     "metadata": {},
     "output_type": "display_data"
    },
    {
     "data": {
      "text/plain": [
       "<ggplot: (8781936820237)>"
      ]
     },
     "execution_count": 31,
     "metadata": {},
     "output_type": "execute_result"
    }
   ],
   "source": [
    "(ggplot(data=prplotdf1, mapping=aes(x='r_1', y='pr_1'))+\n",
    "geom_line(color='darkorange')+\n",
    " geom_hline(yintercept=0.5, linetype='dashed', color='steelblue')+\n",
    " xlab('Recall')+\n",
    " ylab(\"Precision\")+\n",
    " ggtitle(\"Label=1\")+\n",
    " theme_bw()\n",
    ")"
   ]
  },
  {
   "cell_type": "code",
   "execution_count": 32,
   "id": "3c952caa-c367-4ea0-9f96-71700efc4272",
   "metadata": {},
   "outputs": [
    {
     "data": {
      "image/png": "[encoded data removed]",
      "text/plain": [
       "<Figure size 640x480 with 1 Axes>"
      ]
     },
     "metadata": {},
     "output_type": "display_data"
    },
    {
     "data": {
      "text/plain": [
       "<ggplot: (8781899682603)>"
      ]
     },
     "execution_count": 32,
     "metadata": {},
     "output_type": "execute_result"
    }
   ],
   "source": [
    "(ggplot(data=prplotdf2, mapping=aes(x='r_2', y='pr_2'))+\n",
    "geom_line(color='darkorange')+\n",
    " geom_hline(yintercept=0.5, linetype='dashed', color='steelblue')+\n",
    " xlab('Recall')+\n",
    " ylab(\"Precision\")+\n",
    " ggtitle(\"Label=2\")+\n",
    " theme_bw()\n",
    ")"
   ]
  },
  {
   "cell_type": "markdown",
   "id": "52ff13ea-0855-4127-a8fa-3aaa52f203bc",
   "metadata": {},
   "source": [
    "The idea is similar, if we have a threshold probabiltty as 1, we have that precision is very high (no true positives or negatives or few true positives) and that it starts climbing down as the threshold probability diminishes. At threshold 0, we have perfect recall because we say everything is a positive label. \n",
    "\n",
    "We don't really compute an AUC metric, but we could."
   ]
  },
  {
   "cell_type": "code",
   "execution_count": null,
   "id": "19ba8189-9543-4c49-b75c-d2a4cf4abf96",
   "metadata": {},
   "outputs": [],
   "source": []
  }
 ],
 "metadata": {
  "kernelspec": {
   "display_name": "Python 3",
   "language": "python",
   "name": "python3"
  },
  "language_info": {
   "codemirror_mode": {
    "name": "ipython",
    "version": 3
   },
   "file_extension": ".py",
   "mimetype": "text/x-python",
   "name": "python",
   "nbconvert_exporter": "python",
   "pygments_lexer": "ipython3",
   "version": "3.8.8"
  }
 },
 "nbformat": 4,
 "nbformat_minor": 5
}
